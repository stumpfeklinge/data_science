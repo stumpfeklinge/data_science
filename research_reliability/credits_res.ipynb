{
 "cells": [
  {
   "cell_type": "markdown",
   "id": "7c28646a",
   "metadata": {},
   "source": [
    "# Исследование надежности заемщиков.\n",
    "## Описание проекта:\n",
    "### Заказчик — кредитный отдел банка. Необходммо разобраться, влияет ли семейное положение и количество детей клиента на факт погашения кредита в срок. Входные данные от банка — статистика о платёжеспособности клиентов.\n",
    "### Результаты исследования будут учтены при построении модели кредитного скоринга — специальной системы, которая оценивает способность потенциального заёмщика вернуть кредит банку.\n",
    "\n",
    "## Вопросы:\n",
    "### 1. Есть ли зависимость между количеством детей и возвратом кредита в срок?"
   ]
  },
  {
   "cell_type": "markdown",
   "id": "62b78ca6",
   "metadata": {},
   "source": [
    "### Шаг 1. Обзор данных"
   ]
  },
  {
   "cell_type": "code",
   "execution_count": 182,
   "id": "9c60221f",
   "metadata": {},
   "outputs": [
    {
     "name": "stdout",
     "output_type": "stream",
     "text": [
      "<class 'pandas.core.frame.DataFrame'>\n",
      "RangeIndex: 21525 entries, 0 to 21524\n",
      "Data columns (total 12 columns):\n",
      " #   Column            Non-Null Count  Dtype  \n",
      "---  ------            --------------  -----  \n",
      " 0   children          21525 non-null  int64  \n",
      " 1   days_employed     19351 non-null  float64\n",
      " 2   dob_years         21525 non-null  int64  \n",
      " 3   education         21525 non-null  object \n",
      " 4   education_id      21525 non-null  int64  \n",
      " 5   family_status     21525 non-null  object \n",
      " 6   family_status_id  21525 non-null  int64  \n",
      " 7   gender            21525 non-null  object \n",
      " 8   income_type       21525 non-null  object \n",
      " 9   debt              21525 non-null  int64  \n",
      " 10  total_income      19351 non-null  float64\n",
      " 11  purpose           21525 non-null  object \n",
      "dtypes: float64(2), int64(5), object(5)\n",
      "memory usage: 2.0+ MB\n",
      "None\n"
     ]
    },
    {
     "data": {
      "text/html": [
       "<div>\n",
       "<style scoped>\n",
       "    .dataframe tbody tr th:only-of-type {\n",
       "        vertical-align: middle;\n",
       "    }\n",
       "\n",
       "    .dataframe tbody tr th {\n",
       "        vertical-align: top;\n",
       "    }\n",
       "\n",
       "    .dataframe thead th {\n",
       "        text-align: right;\n",
       "    }\n",
       "</style>\n",
       "<table border=\"1\" class=\"dataframe\">\n",
       "  <thead>\n",
       "    <tr style=\"text-align: right;\">\n",
       "      <th></th>\n",
       "      <th>children</th>\n",
       "      <th>days_employed</th>\n",
       "      <th>dob_years</th>\n",
       "      <th>education</th>\n",
       "      <th>education_id</th>\n",
       "      <th>family_status</th>\n",
       "      <th>family_status_id</th>\n",
       "      <th>gender</th>\n",
       "      <th>income_type</th>\n",
       "      <th>debt</th>\n",
       "      <th>total_income</th>\n",
       "      <th>purpose</th>\n",
       "    </tr>\n",
       "  </thead>\n",
       "  <tbody>\n",
       "    <tr>\n",
       "      <th>0</th>\n",
       "      <td>1</td>\n",
       "      <td>-8437.673028</td>\n",
       "      <td>42</td>\n",
       "      <td>высшее</td>\n",
       "      <td>0</td>\n",
       "      <td>женат / замужем</td>\n",
       "      <td>0</td>\n",
       "      <td>F</td>\n",
       "      <td>сотрудник</td>\n",
       "      <td>0</td>\n",
       "      <td>253875.639453</td>\n",
       "      <td>покупка жилья</td>\n",
       "    </tr>\n",
       "    <tr>\n",
       "      <th>1</th>\n",
       "      <td>1</td>\n",
       "      <td>-4024.803754</td>\n",
       "      <td>36</td>\n",
       "      <td>среднее</td>\n",
       "      <td>1</td>\n",
       "      <td>женат / замужем</td>\n",
       "      <td>0</td>\n",
       "      <td>F</td>\n",
       "      <td>сотрудник</td>\n",
       "      <td>0</td>\n",
       "      <td>112080.014102</td>\n",
       "      <td>приобретение автомобиля</td>\n",
       "    </tr>\n",
       "    <tr>\n",
       "      <th>2</th>\n",
       "      <td>0</td>\n",
       "      <td>-5623.422610</td>\n",
       "      <td>33</td>\n",
       "      <td>Среднее</td>\n",
       "      <td>1</td>\n",
       "      <td>женат / замужем</td>\n",
       "      <td>0</td>\n",
       "      <td>M</td>\n",
       "      <td>сотрудник</td>\n",
       "      <td>0</td>\n",
       "      <td>145885.952297</td>\n",
       "      <td>покупка жилья</td>\n",
       "    </tr>\n",
       "    <tr>\n",
       "      <th>3</th>\n",
       "      <td>3</td>\n",
       "      <td>-4124.747207</td>\n",
       "      <td>32</td>\n",
       "      <td>среднее</td>\n",
       "      <td>1</td>\n",
       "      <td>женат / замужем</td>\n",
       "      <td>0</td>\n",
       "      <td>M</td>\n",
       "      <td>сотрудник</td>\n",
       "      <td>0</td>\n",
       "      <td>267628.550329</td>\n",
       "      <td>дополнительное образование</td>\n",
       "    </tr>\n",
       "    <tr>\n",
       "      <th>4</th>\n",
       "      <td>0</td>\n",
       "      <td>340266.072047</td>\n",
       "      <td>53</td>\n",
       "      <td>среднее</td>\n",
       "      <td>1</td>\n",
       "      <td>гражданский брак</td>\n",
       "      <td>1</td>\n",
       "      <td>F</td>\n",
       "      <td>пенсионер</td>\n",
       "      <td>0</td>\n",
       "      <td>158616.077870</td>\n",
       "      <td>сыграть свадьбу</td>\n",
       "    </tr>\n",
       "  </tbody>\n",
       "</table>\n",
       "</div>"
      ],
      "text/plain": [
       "   children  days_employed  dob_years education  education_id  \\\n",
       "0         1   -8437.673028         42    высшее             0   \n",
       "1         1   -4024.803754         36   среднее             1   \n",
       "2         0   -5623.422610         33   Среднее             1   \n",
       "3         3   -4124.747207         32   среднее             1   \n",
       "4         0  340266.072047         53   среднее             1   \n",
       "\n",
       "      family_status  family_status_id gender income_type  debt   total_income  \\\n",
       "0   женат / замужем                 0      F   сотрудник     0  253875.639453   \n",
       "1   женат / замужем                 0      F   сотрудник     0  112080.014102   \n",
       "2   женат / замужем                 0      M   сотрудник     0  145885.952297   \n",
       "3   женат / замужем                 0      M   сотрудник     0  267628.550329   \n",
       "4  гражданский брак                 1      F   пенсионер     0  158616.077870   \n",
       "\n",
       "                      purpose  \n",
       "0               покупка жилья  \n",
       "1     приобретение автомобиля  \n",
       "2               покупка жилья  \n",
       "3  дополнительное образование  \n",
       "4             сыграть свадьбу  "
      ]
     },
     "metadata": {},
     "output_type": "display_data"
    }
   ],
   "source": [
    "import pandas as pd\n",
    "import numpy as np\n",
    "\n",
    "df=pd.read_csv('data (1).csv')\n",
    "print(df.info())\n",
    "display(df.head())"
   ]
  },
  {
   "cell_type": "markdown",
   "id": "dc2673ee",
   "metadata": {},
   "source": [
    "### Описание данных:\n",
    "- **children** — количество детей в семье\n",
    "- **days_employed** — общий трудовой стаж в днях  \n",
    "- **dob_years** — возраст клиента в годах\n",
    "- **education** — уровень образования клиента\n",
    "- **education_id** — идентификатор уровня образования\n",
    "- **family_status** — семейное положение\n",
    "- **family_status_id** — идентификатор семейного положения\n",
    "- **gender** — пол клиента\n",
    "- **income_type** — тип занятости\n",
    "- **debt** — имел ли задолженность по возврату кредитов\n",
    "- **total_income** — ежемесячный доход\n",
    "- **purpose** — цель получения кредита"
   ]
  },
  {
   "cell_type": "markdown",
   "id": "ec9737df",
   "metadata": {},
   "source": [
    "### Проблеммы в данных\n",
    "- В столбцах days_employed и total_income присутствуют пропуски.\n",
    "- В столбцах days_employed и children встречаются аномальные значения (далее будет показано).\n",
    "- В данных присутствуют явные и неявные дубликаты. "
   ]
  },
  {
   "cell_type": "markdown",
   "id": "03ecf75b",
   "metadata": {},
   "source": [
    "### Оценим процент пропусков:"
   ]
  },
  {
   "cell_type": "code",
   "execution_count": 183,
   "id": "6b6b0ffc",
   "metadata": {},
   "outputs": [
    {
     "name": "stdout",
     "output_type": "stream",
     "text": [
      "Процент пропущенных значений в столбце \"days_employed\":  10.1 %\n",
      "Процент пропущенных значений в столбце \"total_income\":  10.1 %\n"
     ]
    }
   ],
   "source": [
    "print('Процент пропущенных значений в столбце \"days_employed\": ',np.round(df['days_employed'].isna().sum()/len(df['days_employed'])*100,3),'%')\n",
    "print('Процент пропущенных значений в столбце \"total_income\": ',np.round(df['total_income'].isna().sum()/len(df['total_income'])*100,3),'%')"
   ]
  },
  {
   "cell_type": "markdown",
   "id": "c63a3e0b",
   "metadata": {},
   "source": [
    "##### Процент пропущенных значений в обоих столбцах ~10.1%\n",
    "### Возможные причины появления пропусков в данных:\n",
    "* **Ошибки при сборе данных:** \n",
    "    * клиент отказался предоставлять конфиденциальную информацию о своем стаже и доходе.\n",
    "* **Человеческая ошибка:**\n",
    "    * сотрудник банка забыл внести данные, или клиент пропустил эти поля в анкете.\n",
    "* **Особенности статуса клиента:**\n",
    "    * безработные, студенты, пенсионеры. Для этих категорий понятия \"трудовой стаж\" (в контексте текущей работы) и \"ежемесячный доход\" могут быть неопределенными или некорректными\n",
    "* **Неприменимость для некоторых профессий:**\n",
    "\n",
    "    * Фрилансеры, самозанятые, владельцы бизнеса. Для них традиционное понятие \"стаж в днях на текущем месте работы\" может быть размытым или не имеющим смысла. \n",
    "* **Крайне высока вероятность, что пропуски в этих двух столбцах находятся в одних и тех же строках.**\n"
   ]
  },
  {
   "cell_type": "markdown",
   "id": "c57294bf",
   "metadata": {},
   "source": [
    "### Шаг 2.1 Заполнение пропусков\n",
    "\n",
    "#### Избавимся от пропусков в total_income заполнив их медианным значением стобца( медиана будет устойчива к выбрасам, что важно в контексте информации о доходах)"
   ]
  },
  {
   "cell_type": "code",
   "execution_count": 184,
   "id": "6a78a628",
   "metadata": {},
   "outputs": [
    {
     "name": "stdout",
     "output_type": "stream",
     "text": [
      "0\n"
     ]
    }
   ],
   "source": [
    "df.loc[df['total_income'].isna(),'total_income']=df['total_income'].median()\n",
    "print(df['total_income'].isna().sum())"
   ]
  },
  {
   "cell_type": "markdown",
   "id": "841b572b",
   "metadata": {},
   "source": [
    "### Шаг 2.2 Проверка данных на аномалии и исправления."
   ]
  },
  {
   "cell_type": "code",
   "execution_count": 185,
   "id": "ff2aa49d",
   "metadata": {},
   "outputs": [
    {
     "name": "stdout",
     "output_type": "stream",
     "text": [
      "count     19351.000000\n",
      "mean      63046.497661\n",
      "std      140827.311974\n",
      "min      -18388.949901\n",
      "25%       -2747.423625\n",
      "50%       -1203.369529\n",
      "75%        -291.095954\n",
      "max      401755.400475\n",
      "Name: days_employed, dtype: float64\n"
     ]
    }
   ],
   "source": [
    "print(df['days_employed'].describe())"
   ]
  },
  {
   "cell_type": "markdown",
   "id": "980a31a0",
   "metadata": {},
   "source": [
    "В данных days_employed есть отрицательные значения( отрицательное кол-во отработанных дней). Заменим отрицательные значения медианным для этого столбца, т.к. амена на медиану не сильно искажает общее распределение возраст (как например замена на случайное или среднее арифметическое)"
   ]
  },
  {
   "cell_type": "code",
   "execution_count": 186,
   "id": "a8f21a33",
   "metadata": {},
   "outputs": [
    {
     "name": "stdout",
     "output_type": "stream",
     "text": [
      "count     21525.000000\n",
      "mean     365179.857140\n",
      "std        8430.550659\n",
      "min      328728.720605\n",
      "25%      365213.306266\n",
      "50%      365213.306266\n",
      "75%      365213.306266\n",
      "max      401755.400475\n",
      "Name: days_employed, dtype: float64\n"
     ]
    }
   ],
   "source": [
    "(df.loc[df['days_employed']<0,'days_employed'])=np.nan\n",
    "df['days_employed']=df['days_employed'].fillna(df['days_employed'].median())\n",
    "print(df['days_employed'].describe())"
   ]
  },
  {
   "cell_type": "markdown",
   "id": "3fc78259",
   "metadata": {},
   "source": [
    "### Шаг 2.3. Изменение типов данных.\n",
    "Обратим внимнеие что столбец days_employed имеет тип float, изменим его на int"
   ]
  },
  {
   "cell_type": "code",
   "execution_count": 187,
   "id": "46ca101f",
   "metadata": {},
   "outputs": [
    {
     "name": "stdout",
     "output_type": "stream",
     "text": [
      "<class 'pandas.core.frame.DataFrame'>\n",
      "RangeIndex: 21525 entries, 0 to 21524\n",
      "Data columns (total 12 columns):\n",
      " #   Column            Non-Null Count  Dtype  \n",
      "---  ------            --------------  -----  \n",
      " 0   children          21525 non-null  int64  \n",
      " 1   days_employed     21525 non-null  int64  \n",
      " 2   dob_years         21525 non-null  int64  \n",
      " 3   education         21525 non-null  object \n",
      " 4   education_id      21525 non-null  int64  \n",
      " 5   family_status     21525 non-null  object \n",
      " 6   family_status_id  21525 non-null  int64  \n",
      " 7   gender            21525 non-null  object \n",
      " 8   income_type       21525 non-null  object \n",
      " 9   debt              21525 non-null  int64  \n",
      " 10  total_income      21525 non-null  float64\n",
      " 11  purpose           21525 non-null  object \n",
      "dtypes: float64(1), int64(6), object(5)\n",
      "memory usage: 2.0+ MB\n"
     ]
    },
    {
     "data": {
      "text/plain": [
       "None"
      ]
     },
     "metadata": {},
     "output_type": "display_data"
    }
   ],
   "source": [
    "df['days_employed']=df['days_employed'].astype('int')\n",
    "df['children']=df['children'].astype('int')\n",
    "display(df.info())"
   ]
  },
  {
   "cell_type": "markdown",
   "id": "8e824159",
   "metadata": {},
   "source": [
    "### Шаг 2.4. Удаление дубликатов.\n",
    "В данных присутствуют строки-дубликаты, удалим их. Также обработаем неявные дубликаты. Например, в столбце education есть одни и те же значения, но записанные по-разному: с использованием заглавных и строчных букв. Приведем их к одному регистру.\n",
    "\n",
    "Помимо этого столбец children содержет отрицательные значения кол-ва детей в семье, удалим эти значения."
   ]
  },
  {
   "cell_type": "code",
   "execution_count": 188,
   "id": "5e50328e",
   "metadata": {},
   "outputs": [
    {
     "data": {
      "text/plain": [
       "'Данные по типу образования: '"
      ]
     },
     "metadata": {},
     "output_type": "display_data"
    },
    {
     "data": {
      "text/plain": [
       "array(['высшее', 'среднее', 'Среднее', 'СРЕДНЕЕ', 'ВЫСШЕЕ',\n",
       "       'неоконченное высшее', 'начальное', 'Высшее',\n",
       "       'НЕОКОНЧЕННОЕ ВЫСШЕЕ', 'Неоконченное высшее', 'НАЧАЛЬНОЕ',\n",
       "       'Начальное', 'Ученая степень', 'УЧЕНАЯ СТЕПЕНЬ', 'ученая степень'],\n",
       "      dtype=object)"
      ]
     },
     "metadata": {},
     "output_type": "display_data"
    },
    {
     "data": {
      "text/plain": [
       "'Данные по типу образования после обработки: '"
      ]
     },
     "metadata": {},
     "output_type": "display_data"
    },
    {
     "data": {
      "text/plain": [
       "array(['высшее', 'среднее', 'неоконченное высшее', 'начальное',\n",
       "       'ученая степень'], dtype=object)"
      ]
     },
     "metadata": {},
     "output_type": "display_data"
    },
    {
     "data": {
      "text/plain": [
       "'Данные по семейному статусу: '"
      ]
     },
     "metadata": {},
     "output_type": "display_data"
    },
    {
     "data": {
      "text/plain": [
       "array(['женат / замужем', 'гражданский брак', 'вдовец / вдова',\n",
       "       'в разводе', 'Не женат / не замужем'], dtype=object)"
      ]
     },
     "metadata": {},
     "output_type": "display_data"
    },
    {
     "data": {
      "text/plain": [
       "'Данные по полу: '"
      ]
     },
     "metadata": {},
     "output_type": "display_data"
    },
    {
     "data": {
      "text/plain": [
       "array(['F', 'M', 'XNA'], dtype=object)"
      ]
     },
     "metadata": {},
     "output_type": "display_data"
    },
    {
     "data": {
      "text/plain": [
       "'Данные по типу дохода: '"
      ]
     },
     "metadata": {},
     "output_type": "display_data"
    },
    {
     "data": {
      "text/plain": [
       "array(['сотрудник', 'пенсионер', 'компаньон', 'госслужащий',\n",
       "       'безработный', 'предприниматель', 'студент', 'в декрете'],\n",
       "      dtype=object)"
      ]
     },
     "metadata": {},
     "output_type": "display_data"
    },
    {
     "data": {
      "text/plain": [
       "array([ 1,  0,  3,  2, -1,  4, 20,  5])"
      ]
     },
     "metadata": {},
     "output_type": "display_data"
    },
    {
     "data": {
      "text/plain": [
       "'Дубликаты перед обработкой: '"
      ]
     },
     "metadata": {},
     "output_type": "display_data"
    },
    {
     "data": {
      "text/plain": [
       "children            71\n",
       "days_employed       71\n",
       "dob_years           71\n",
       "education           71\n",
       "education_id        71\n",
       "family_status       71\n",
       "family_status_id    71\n",
       "gender              71\n",
       "income_type         71\n",
       "debt                71\n",
       "total_income        71\n",
       "purpose             71\n",
       "dtype: int64"
      ]
     },
     "metadata": {},
     "output_type": "display_data"
    },
    {
     "data": {
      "text/plain": [
       "'Итог обработки: '"
      ]
     },
     "metadata": {},
     "output_type": "display_data"
    },
    {
     "data": {
      "text/plain": [
       "children            0\n",
       "days_employed       0\n",
       "dob_years           0\n",
       "education           0\n",
       "education_id        0\n",
       "family_status       0\n",
       "family_status_id    0\n",
       "gender              0\n",
       "income_type         0\n",
       "debt                0\n",
       "total_income        0\n",
       "purpose             0\n",
       "dtype: int64"
      ]
     },
     "metadata": {},
     "output_type": "display_data"
    }
   ],
   "source": [
    "display('Данные по типу образования: ',df['education'].unique())\n",
    "\n",
    "df['education']=df['education'].str.lower()\n",
    "\n",
    "display('Данные по типу образования после обработки: ',df['education'].unique())\n",
    "\n",
    "display('Данные по семейному статусу: ',df['family_status'].unique())\n",
    "\n",
    "display(\"Данные по полу: \",df['gender'].unique())\n",
    "\n",
    "display(\"Данные по типу дохода: \",df['income_type'].unique())\n",
    "\n",
    "#Кол-во детей\n",
    "display(df['children'].unique())\n",
    "df.loc[(df['children']<0)|(df['children']>15),'children']=np.nan\n",
    "df=df.dropna()\n",
    "\n",
    "display('Дубликаты перед обработкой: ',df[df.duplicated()].count())\n",
    "df=df.drop_duplicates()\n",
    "display('Итог обработки: ',df[df.duplicated()].count())\n"
   ]
  },
  {
   "cell_type": "markdown",
   "id": "cac59a57",
   "metadata": {},
   "source": [
    "Перед поиском были проверены данные по стобцам имеющим категориальные признаки с помощью .unique(); Затем был изменен регистр всех значений столбца, чтобы стандартизировать данные.\n",
    "Для поиска был использован df.duplicated(), т.к. он прост в использовании и наглядно показывает, какие именно строки являются повторениями. Это позволяет провести анализ перед тем, как безвозвратно удалить данные.\n",
    "Для удаления был использован df.drop_duplicates()\n",
    "\n",
    "Возможные причины появления дубликатов:\n",
    "1. ошибки при слиянии данных\n",
    "2. технические сбои\n",
    "3. отсутствие ограничений по уникальности в базе данных:"
   ]
  },
  {
   "cell_type": "markdown",
   "id": "4da9060d",
   "metadata": {},
   "source": [
    "### Шаг 2.5. Формирование дополнительных датафреймов словарей, декомпозиция исходного датафрейма.\n",
    "\n",
    "Создадим два новых датафрейма, в которых:\n",
    "- каждому уникальному значению из education соответствует уникальное значение education_id — в первом;\n",
    "- каждому уникальному значению из family_status соответствует уникальное значение family_status_id — во втором.\n",
    "\n",
    "Удалим из исходного датафрейма столбцы education и family_status, оставив только их идентификаторы: education_id и family_status_id. Новые датафреймы — это те самые «словари», к которым мы сможете обращаться по идентификатору."
   ]
  },
  {
   "cell_type": "code",
   "execution_count": 189,
   "id": "d22b70cd",
   "metadata": {},
   "outputs": [
    {
     "data": {
      "text/html": [
       "<div>\n",
       "<style scoped>\n",
       "    .dataframe tbody tr th:only-of-type {\n",
       "        vertical-align: middle;\n",
       "    }\n",
       "\n",
       "    .dataframe tbody tr th {\n",
       "        vertical-align: top;\n",
       "    }\n",
       "\n",
       "    .dataframe thead th {\n",
       "        text-align: right;\n",
       "    }\n",
       "</style>\n",
       "<table border=\"1\" class=\"dataframe\">\n",
       "  <thead>\n",
       "    <tr style=\"text-align: right;\">\n",
       "      <th></th>\n",
       "      <th>education</th>\n",
       "      <th>education_id</th>\n",
       "    </tr>\n",
       "  </thead>\n",
       "  <tbody>\n",
       "    <tr>\n",
       "      <th>0</th>\n",
       "      <td>высшее</td>\n",
       "      <td>0</td>\n",
       "    </tr>\n",
       "    <tr>\n",
       "      <th>1</th>\n",
       "      <td>среднее</td>\n",
       "      <td>1</td>\n",
       "    </tr>\n",
       "    <tr>\n",
       "      <th>2</th>\n",
       "      <td>среднее</td>\n",
       "      <td>1</td>\n",
       "    </tr>\n",
       "    <tr>\n",
       "      <th>3</th>\n",
       "      <td>среднее</td>\n",
       "      <td>1</td>\n",
       "    </tr>\n",
       "    <tr>\n",
       "      <th>4</th>\n",
       "      <td>среднее</td>\n",
       "      <td>1</td>\n",
       "    </tr>\n",
       "    <tr>\n",
       "      <th>...</th>\n",
       "      <td>...</td>\n",
       "      <td>...</td>\n",
       "    </tr>\n",
       "    <tr>\n",
       "      <th>21520</th>\n",
       "      <td>среднее</td>\n",
       "      <td>1</td>\n",
       "    </tr>\n",
       "    <tr>\n",
       "      <th>21521</th>\n",
       "      <td>среднее</td>\n",
       "      <td>1</td>\n",
       "    </tr>\n",
       "    <tr>\n",
       "      <th>21522</th>\n",
       "      <td>среднее</td>\n",
       "      <td>1</td>\n",
       "    </tr>\n",
       "    <tr>\n",
       "      <th>21523</th>\n",
       "      <td>среднее</td>\n",
       "      <td>1</td>\n",
       "    </tr>\n",
       "    <tr>\n",
       "      <th>21524</th>\n",
       "      <td>среднее</td>\n",
       "      <td>1</td>\n",
       "    </tr>\n",
       "  </tbody>\n",
       "</table>\n",
       "<p>21331 rows × 2 columns</p>\n",
       "</div>"
      ],
      "text/plain": [
       "      education  education_id\n",
       "0        высшее             0\n",
       "1       среднее             1\n",
       "2       среднее             1\n",
       "3       среднее             1\n",
       "4       среднее             1\n",
       "...         ...           ...\n",
       "21520   среднее             1\n",
       "21521   среднее             1\n",
       "21522   среднее             1\n",
       "21523   среднее             1\n",
       "21524   среднее             1\n",
       "\n",
       "[21331 rows x 2 columns]"
      ]
     },
     "metadata": {},
     "output_type": "display_data"
    },
    {
     "data": {
      "text/html": [
       "<div>\n",
       "<style scoped>\n",
       "    .dataframe tbody tr th:only-of-type {\n",
       "        vertical-align: middle;\n",
       "    }\n",
       "\n",
       "    .dataframe tbody tr th {\n",
       "        vertical-align: top;\n",
       "    }\n",
       "\n",
       "    .dataframe thead th {\n",
       "        text-align: right;\n",
       "    }\n",
       "</style>\n",
       "<table border=\"1\" class=\"dataframe\">\n",
       "  <thead>\n",
       "    <tr style=\"text-align: right;\">\n",
       "      <th></th>\n",
       "      <th>family_status</th>\n",
       "      <th>family_status_id</th>\n",
       "    </tr>\n",
       "  </thead>\n",
       "  <tbody>\n",
       "    <tr>\n",
       "      <th>0</th>\n",
       "      <td>женат / замужем</td>\n",
       "      <td>0</td>\n",
       "    </tr>\n",
       "    <tr>\n",
       "      <th>1</th>\n",
       "      <td>женат / замужем</td>\n",
       "      <td>0</td>\n",
       "    </tr>\n",
       "    <tr>\n",
       "      <th>2</th>\n",
       "      <td>женат / замужем</td>\n",
       "      <td>0</td>\n",
       "    </tr>\n",
       "    <tr>\n",
       "      <th>3</th>\n",
       "      <td>женат / замужем</td>\n",
       "      <td>0</td>\n",
       "    </tr>\n",
       "    <tr>\n",
       "      <th>4</th>\n",
       "      <td>гражданский брак</td>\n",
       "      <td>1</td>\n",
       "    </tr>\n",
       "    <tr>\n",
       "      <th>...</th>\n",
       "      <td>...</td>\n",
       "      <td>...</td>\n",
       "    </tr>\n",
       "    <tr>\n",
       "      <th>21520</th>\n",
       "      <td>гражданский брак</td>\n",
       "      <td>1</td>\n",
       "    </tr>\n",
       "    <tr>\n",
       "      <th>21521</th>\n",
       "      <td>женат / замужем</td>\n",
       "      <td>0</td>\n",
       "    </tr>\n",
       "    <tr>\n",
       "      <th>21522</th>\n",
       "      <td>гражданский брак</td>\n",
       "      <td>1</td>\n",
       "    </tr>\n",
       "    <tr>\n",
       "      <th>21523</th>\n",
       "      <td>женат / замужем</td>\n",
       "      <td>0</td>\n",
       "    </tr>\n",
       "    <tr>\n",
       "      <th>21524</th>\n",
       "      <td>женат / замужем</td>\n",
       "      <td>0</td>\n",
       "    </tr>\n",
       "  </tbody>\n",
       "</table>\n",
       "<p>21331 rows × 2 columns</p>\n",
       "</div>"
      ],
      "text/plain": [
       "          family_status  family_status_id\n",
       "0       женат / замужем                 0\n",
       "1       женат / замужем                 0\n",
       "2       женат / замужем                 0\n",
       "3       женат / замужем                 0\n",
       "4      гражданский брак                 1\n",
       "...                 ...               ...\n",
       "21520  гражданский брак                 1\n",
       "21521   женат / замужем                 0\n",
       "21522  гражданский брак                 1\n",
       "21523   женат / замужем                 0\n",
       "21524   женат / замужем                 0\n",
       "\n",
       "[21331 rows x 2 columns]"
      ]
     },
     "metadata": {},
     "output_type": "display_data"
    }
   ],
   "source": [
    "education_dict=df.loc[:,'education':'education_id']\n",
    "family_status_dict=df.loc[:,'family_status':'family_status_id']\n",
    "\n",
    "df=df.drop(['education','family_status'],axis=1)\n",
    "#display(df)\n",
    "\n",
    "display(education_dict)\n",
    "display(family_status_dict)"
   ]
  },
  {
   "cell_type": "markdown",
   "id": "2fd70664",
   "metadata": {},
   "source": [
    "### Шаг 2.6. Категоризация дохода."
   ]
  },
  {
   "cell_type": "markdown",
   "id": "4184ad40",
   "metadata": {},
   "source": [
    "Произведем категоризацию данных о доходе, по правилам описанным в функции income_category. В последствии будет проще проводить анализ зависимости уровня достатка и факта погашения кредита в срок."
   ]
  },
  {
   "cell_type": "code",
   "execution_count": 190,
   "id": "4988844d",
   "metadata": {},
   "outputs": [
    {
     "data": {
      "text/html": [
       "<div>\n",
       "<style scoped>\n",
       "    .dataframe tbody tr th:only-of-type {\n",
       "        vertical-align: middle;\n",
       "    }\n",
       "\n",
       "    .dataframe tbody tr th {\n",
       "        vertical-align: top;\n",
       "    }\n",
       "\n",
       "    .dataframe thead th {\n",
       "        text-align: right;\n",
       "    }\n",
       "</style>\n",
       "<table border=\"1\" class=\"dataframe\">\n",
       "  <thead>\n",
       "    <tr style=\"text-align: right;\">\n",
       "      <th></th>\n",
       "      <th>children</th>\n",
       "      <th>days_employed</th>\n",
       "      <th>dob_years</th>\n",
       "      <th>education_id</th>\n",
       "      <th>family_status_id</th>\n",
       "      <th>gender</th>\n",
       "      <th>income_type</th>\n",
       "      <th>debt</th>\n",
       "      <th>total_income</th>\n",
       "      <th>purpose</th>\n",
       "      <th>total_income_category</th>\n",
       "    </tr>\n",
       "  </thead>\n",
       "  <tbody>\n",
       "    <tr>\n",
       "      <th>0</th>\n",
       "      <td>1.0</td>\n",
       "      <td>365213</td>\n",
       "      <td>42</td>\n",
       "      <td>0</td>\n",
       "      <td>0</td>\n",
       "      <td>F</td>\n",
       "      <td>сотрудник</td>\n",
       "      <td>0</td>\n",
       "      <td>253875.639453</td>\n",
       "      <td>покупка жилья</td>\n",
       "      <td>B</td>\n",
       "    </tr>\n",
       "    <tr>\n",
       "      <th>1</th>\n",
       "      <td>1.0</td>\n",
       "      <td>365213</td>\n",
       "      <td>36</td>\n",
       "      <td>1</td>\n",
       "      <td>0</td>\n",
       "      <td>F</td>\n",
       "      <td>сотрудник</td>\n",
       "      <td>0</td>\n",
       "      <td>112080.014102</td>\n",
       "      <td>приобретение автомобиля</td>\n",
       "      <td>C</td>\n",
       "    </tr>\n",
       "    <tr>\n",
       "      <th>2</th>\n",
       "      <td>0.0</td>\n",
       "      <td>365213</td>\n",
       "      <td>33</td>\n",
       "      <td>1</td>\n",
       "      <td>0</td>\n",
       "      <td>M</td>\n",
       "      <td>сотрудник</td>\n",
       "      <td>0</td>\n",
       "      <td>145885.952297</td>\n",
       "      <td>покупка жилья</td>\n",
       "      <td>C</td>\n",
       "    </tr>\n",
       "    <tr>\n",
       "      <th>3</th>\n",
       "      <td>3.0</td>\n",
       "      <td>365213</td>\n",
       "      <td>32</td>\n",
       "      <td>1</td>\n",
       "      <td>0</td>\n",
       "      <td>M</td>\n",
       "      <td>сотрудник</td>\n",
       "      <td>0</td>\n",
       "      <td>267628.550329</td>\n",
       "      <td>дополнительное образование</td>\n",
       "      <td>B</td>\n",
       "    </tr>\n",
       "    <tr>\n",
       "      <th>4</th>\n",
       "      <td>0.0</td>\n",
       "      <td>340266</td>\n",
       "      <td>53</td>\n",
       "      <td>1</td>\n",
       "      <td>1</td>\n",
       "      <td>F</td>\n",
       "      <td>пенсионер</td>\n",
       "      <td>0</td>\n",
       "      <td>158616.077870</td>\n",
       "      <td>сыграть свадьбу</td>\n",
       "      <td>C</td>\n",
       "    </tr>\n",
       "    <tr>\n",
       "      <th>...</th>\n",
       "      <td>...</td>\n",
       "      <td>...</td>\n",
       "      <td>...</td>\n",
       "      <td>...</td>\n",
       "      <td>...</td>\n",
       "      <td>...</td>\n",
       "      <td>...</td>\n",
       "      <td>...</td>\n",
       "      <td>...</td>\n",
       "      <td>...</td>\n",
       "      <td>...</td>\n",
       "    </tr>\n",
       "    <tr>\n",
       "      <th>21520</th>\n",
       "      <td>1.0</td>\n",
       "      <td>365213</td>\n",
       "      <td>43</td>\n",
       "      <td>1</td>\n",
       "      <td>1</td>\n",
       "      <td>F</td>\n",
       "      <td>компаньон</td>\n",
       "      <td>0</td>\n",
       "      <td>224791.862382</td>\n",
       "      <td>операции с жильем</td>\n",
       "      <td>B</td>\n",
       "    </tr>\n",
       "    <tr>\n",
       "      <th>21521</th>\n",
       "      <td>0.0</td>\n",
       "      <td>343937</td>\n",
       "      <td>67</td>\n",
       "      <td>1</td>\n",
       "      <td>0</td>\n",
       "      <td>F</td>\n",
       "      <td>пенсионер</td>\n",
       "      <td>0</td>\n",
       "      <td>155999.806512</td>\n",
       "      <td>сделка с автомобилем</td>\n",
       "      <td>C</td>\n",
       "    </tr>\n",
       "    <tr>\n",
       "      <th>21522</th>\n",
       "      <td>1.0</td>\n",
       "      <td>365213</td>\n",
       "      <td>38</td>\n",
       "      <td>1</td>\n",
       "      <td>1</td>\n",
       "      <td>M</td>\n",
       "      <td>сотрудник</td>\n",
       "      <td>1</td>\n",
       "      <td>89672.561153</td>\n",
       "      <td>недвижимость</td>\n",
       "      <td>C</td>\n",
       "    </tr>\n",
       "    <tr>\n",
       "      <th>21523</th>\n",
       "      <td>3.0</td>\n",
       "      <td>365213</td>\n",
       "      <td>38</td>\n",
       "      <td>1</td>\n",
       "      <td>0</td>\n",
       "      <td>M</td>\n",
       "      <td>сотрудник</td>\n",
       "      <td>1</td>\n",
       "      <td>244093.050500</td>\n",
       "      <td>на покупку своего автомобиля</td>\n",
       "      <td>B</td>\n",
       "    </tr>\n",
       "    <tr>\n",
       "      <th>21524</th>\n",
       "      <td>2.0</td>\n",
       "      <td>365213</td>\n",
       "      <td>40</td>\n",
       "      <td>1</td>\n",
       "      <td>0</td>\n",
       "      <td>F</td>\n",
       "      <td>сотрудник</td>\n",
       "      <td>0</td>\n",
       "      <td>82047.418899</td>\n",
       "      <td>на покупку автомобиля</td>\n",
       "      <td>C</td>\n",
       "    </tr>\n",
       "  </tbody>\n",
       "</table>\n",
       "<p>21331 rows × 11 columns</p>\n",
       "</div>"
      ],
      "text/plain": [
       "       children  days_employed  dob_years  education_id  family_status_id  \\\n",
       "0           1.0         365213         42             0                 0   \n",
       "1           1.0         365213         36             1                 0   \n",
       "2           0.0         365213         33             1                 0   \n",
       "3           3.0         365213         32             1                 0   \n",
       "4           0.0         340266         53             1                 1   \n",
       "...         ...            ...        ...           ...               ...   \n",
       "21520       1.0         365213         43             1                 1   \n",
       "21521       0.0         343937         67             1                 0   \n",
       "21522       1.0         365213         38             1                 1   \n",
       "21523       3.0         365213         38             1                 0   \n",
       "21524       2.0         365213         40             1                 0   \n",
       "\n",
       "      gender income_type  debt   total_income                       purpose  \\\n",
       "0          F   сотрудник     0  253875.639453                 покупка жилья   \n",
       "1          F   сотрудник     0  112080.014102       приобретение автомобиля   \n",
       "2          M   сотрудник     0  145885.952297                 покупка жилья   \n",
       "3          M   сотрудник     0  267628.550329    дополнительное образование   \n",
       "4          F   пенсионер     0  158616.077870               сыграть свадьбу   \n",
       "...      ...         ...   ...            ...                           ...   \n",
       "21520      F   компаньон     0  224791.862382             операции с жильем   \n",
       "21521      F   пенсионер     0  155999.806512          сделка с автомобилем   \n",
       "21522      M   сотрудник     1   89672.561153                  недвижимость   \n",
       "21523      M   сотрудник     1  244093.050500  на покупку своего автомобиля   \n",
       "21524      F   сотрудник     0   82047.418899         на покупку автомобиля   \n",
       "\n",
       "      total_income_category  \n",
       "0                         B  \n",
       "1                         C  \n",
       "2                         C  \n",
       "3                         B  \n",
       "4                         C  \n",
       "...                     ...  \n",
       "21520                     B  \n",
       "21521                     C  \n",
       "21522                     C  \n",
       "21523                     B  \n",
       "21524                     C  \n",
       "\n",
       "[21331 rows x 11 columns]"
      ]
     },
     "metadata": {},
     "output_type": "display_data"
    }
   ],
   "source": [
    "def income_category(x):\n",
    "    if x<=30000:\n",
    "        return \"E\"\n",
    "    elif x<=50000:\n",
    "        return 'D'\n",
    "    elif x<=200000:\n",
    "        return 'C'\n",
    "    elif x<=1000000:\n",
    "        return 'B'\n",
    "    else:\n",
    "        return 'A'\n",
    "\n",
    "df['total_income_category']=df['total_income'].apply(income_category)\n",
    "display(df)"
   ]
  },
  {
   "cell_type": "markdown",
   "id": "5dacda3c",
   "metadata": {},
   "source": [
    "### Шаг 2.7. Категоризация целей кредита.\n",
    "Создадим функцию, которая на основании данных из столбца purpose сформирует новый столбец purpose_category, в который войдут следующие категории:\n",
    "- 'операции с автомобилем',\n",
    "- 'операции с недвижимостью',\n",
    "- 'проведение свадьбы',\n",
    "- 'получение образования'.\n",
    "\n",
    "Например, если в столбце purpose находится подстрока 'на покупку автомобиля', то в столбце purpose_category должна появиться строка 'операции с автомобилем'.\n"
   ]
  },
  {
   "cell_type": "code",
   "execution_count": 191,
   "id": "1700d4c0",
   "metadata": {},
   "outputs": [],
   "source": [
    "#display(df['purpose'].unique())\n",
    "\n",
    "def purpose(x):\n",
    "    if 'образов' in x:\n",
    "        return 'получение образования'\n",
    "    if 'свадьб' in x:\n",
    "        return 'проведение свадьбы'\n",
    "    if 'автомоб' in x:\n",
    "        return 'операции с автомобилем'\n",
    "    if ('недвижим' in x) or ('жил' in x):\n",
    "        return 'операции с недвижимостью'\n",
    "    else:\n",
    "        return 'другое'  \n",
    "    \n",
    "df['purpose_category']=df['purpose'].apply(purpose)\n",
    "#display(df)\n",
    "#display(df[df['purpose_category'].isna()])"
   ]
  },
  {
   "cell_type": "markdown",
   "id": "bb841749",
   "metadata": {},
   "source": [
    "## Ответы на вопросы."
   ]
  },
  {
   "cell_type": "markdown",
   "id": "91e853a3",
   "metadata": {},
   "source": [
    "### **Вопрос 1** \"Влияние кол-ва детей на возрат кредита в срок\":"
   ]
  },
  {
   "cell_type": "code",
   "execution_count": 192,
   "id": "fbcd058f",
   "metadata": {},
   "outputs": [
    {
     "data": {
      "text/html": [
       "<div>\n",
       "<style scoped>\n",
       "    .dataframe tbody tr th:only-of-type {\n",
       "        vertical-align: middle;\n",
       "    }\n",
       "\n",
       "    .dataframe tbody tr th {\n",
       "        vertical-align: top;\n",
       "    }\n",
       "\n",
       "    .dataframe thead th {\n",
       "        text-align: right;\n",
       "    }\n",
       "</style>\n",
       "<table border=\"1\" class=\"dataframe\">\n",
       "  <thead>\n",
       "    <tr style=\"text-align: right;\">\n",
       "      <th></th>\n",
       "      <th>Всего семей</th>\n",
       "      <th>Семьи с задолжностями</th>\n",
       "      <th>Процент не имеющих долга</th>\n",
       "    </tr>\n",
       "    <tr>\n",
       "      <th>children</th>\n",
       "      <th></th>\n",
       "      <th></th>\n",
       "      <th></th>\n",
       "    </tr>\n",
       "  </thead>\n",
       "  <tbody>\n",
       "    <tr>\n",
       "      <th>0.0</th>\n",
       "      <td>14091</td>\n",
       "      <td>1063</td>\n",
       "      <td>92.46</td>\n",
       "    </tr>\n",
       "    <tr>\n",
       "      <th>1.0</th>\n",
       "      <td>4808</td>\n",
       "      <td>444</td>\n",
       "      <td>90.77</td>\n",
       "    </tr>\n",
       "    <tr>\n",
       "      <th>2.0</th>\n",
       "      <td>2052</td>\n",
       "      <td>194</td>\n",
       "      <td>90.55</td>\n",
       "    </tr>\n",
       "    <tr>\n",
       "      <th>3.0</th>\n",
       "      <td>330</td>\n",
       "      <td>27</td>\n",
       "      <td>91.82</td>\n",
       "    </tr>\n",
       "    <tr>\n",
       "      <th>4.0</th>\n",
       "      <td>41</td>\n",
       "      <td>4</td>\n",
       "      <td>90.24</td>\n",
       "    </tr>\n",
       "    <tr>\n",
       "      <th>5.0</th>\n",
       "      <td>9</td>\n",
       "      <td>0</td>\n",
       "      <td>100.00</td>\n",
       "    </tr>\n",
       "  </tbody>\n",
       "</table>\n",
       "</div>"
      ],
      "text/plain": [
       "          Всего семей  Семьи с задолжностями  Процент не имеющих долга\n",
       "children                                                              \n",
       "0.0             14091                   1063                     92.46\n",
       "1.0              4808                    444                     90.77\n",
       "2.0              2052                    194                     90.55\n",
       "3.0               330                     27                     91.82\n",
       "4.0                41                      4                     90.24\n",
       "5.0                 9                      0                    100.00"
      ]
     },
     "metadata": {},
     "output_type": "display_data"
    }
   ],
   "source": [
    "\n",
    "pivot_table_1 = df.pivot_table(\n",
    "    values=['debt', 'days_employed'],\n",
    "    index='children',\n",
    "    aggfunc={\n",
    "        'debt': 'sum',           \n",
    "        'days_employed': 'count'  \n",
    "    }\n",
    ")\n",
    "\n",
    "pivot_table_1['Процент не имеющих долга']=np.round((pivot_table_1['days_employed']-pivot_table_1['debt'])/pivot_table_1['days_employed']*100,2)\n",
    "pivot_table_1=pivot_table_1.rename(columns={'days_employed':'Всего семей','debt':'Семьи с задолжностями'})\n",
    "display(pivot_table_1)\n"
   ]
  },
  {
   "cell_type": "markdown",
   "id": "e34a97c3",
   "metadata": {},
   "source": [
    "#### По резульатам анализа не наблюдается сильного или однозначного влияния количества детей на вероятность возврата кредита в срок. Процент добросовестных заемщиков остается стабильно высоким (около 90-92%) независимо от того, есть ли в семье дети и сколько их.\n",
    "\n",
    "### **Вывод:** Наличие детей не является решающим фактором кредитной дисциплины."
   ]
  },
  {
   "cell_type": "markdown",
   "id": "2ba33418",
   "metadata": {},
   "source": [
    "### **Вопрос 2** \"Есть ли зависимость уровня образования на возврат кредита в срок\":"
   ]
  },
  {
   "cell_type": "code",
   "execution_count": 193,
   "id": "beb2f7ff",
   "metadata": {},
   "outputs": [
    {
     "data": {
      "text/html": [
       "<div>\n",
       "<style scoped>\n",
       "    .dataframe tbody tr th:only-of-type {\n",
       "        vertical-align: middle;\n",
       "    }\n",
       "\n",
       "    .dataframe tbody tr th {\n",
       "        vertical-align: top;\n",
       "    }\n",
       "\n",
       "    .dataframe thead th {\n",
       "        text-align: right;\n",
       "    }\n",
       "</style>\n",
       "<table border=\"1\" class=\"dataframe\">\n",
       "  <thead>\n",
       "    <tr style=\"text-align: right;\">\n",
       "      <th></th>\n",
       "      <th>Имеют долг</th>\n",
       "      <th>Всего взяли кредит</th>\n",
       "      <th>Процент не имеющих долга</th>\n",
       "    </tr>\n",
       "    <tr>\n",
       "      <th>education</th>\n",
       "      <th></th>\n",
       "      <th></th>\n",
       "      <th></th>\n",
       "    </tr>\n",
       "  </thead>\n",
       "  <tbody>\n",
       "    <tr>\n",
       "      <th>высшее</th>\n",
       "      <td>278</td>\n",
       "      <td>5227</td>\n",
       "      <td>94.681462</td>\n",
       "    </tr>\n",
       "    <tr>\n",
       "      <th>начальное</th>\n",
       "      <td>31</td>\n",
       "      <td>282</td>\n",
       "      <td>89.007092</td>\n",
       "    </tr>\n",
       "    <tr>\n",
       "      <th>неоконченное высшее</th>\n",
       "      <td>68</td>\n",
       "      <td>741</td>\n",
       "      <td>90.823212</td>\n",
       "    </tr>\n",
       "    <tr>\n",
       "      <th>среднее</th>\n",
       "      <td>1355</td>\n",
       "      <td>15075</td>\n",
       "      <td>91.011609</td>\n",
       "    </tr>\n",
       "    <tr>\n",
       "      <th>ученая степень</th>\n",
       "      <td>0</td>\n",
       "      <td>6</td>\n",
       "      <td>100.000000</td>\n",
       "    </tr>\n",
       "  </tbody>\n",
       "</table>\n",
       "</div>"
      ],
      "text/plain": [
       "                     Имеют долг  Всего взяли кредит  Процент не имеющих долга\n",
       "education                                                                    \n",
       "высшее                      278                5227                 94.681462\n",
       "начальное                    31                 282                 89.007092\n",
       "неоконченное высшее          68                 741                 90.823212\n",
       "среднее                    1355               15075                 91.011609\n",
       "ученая степень                0                   6                100.000000"
      ]
     },
     "metadata": {},
     "output_type": "display_data"
    }
   ],
   "source": [
    "education_dict['debt']=df['debt']\n",
    "#display(education_dick)\n",
    "pivot_table_2=education_dict.pivot_table(\n",
    "    values=['education_id','debt'],\n",
    "    index='education',\n",
    "    aggfunc={\n",
    "        'education_id':'count',\n",
    "        'debt':'sum'\n",
    "    }\n",
    ")\n",
    "pivot_table_2=pivot_table_2.rename(columns={'debt':'Имеют долг','education_id':'Всего взяли кредит'})\n",
    "pivot_table_2['Процент не имеющих долга']=(pivot_table_2['Всего взяли кредит']-pivot_table_2['Имеют долг'])/pivot_table_2['Всего взяли кредит']*100\n",
    "display(pivot_table_2)"
   ]
  },
  {
   "cell_type": "markdown",
   "id": "43a799e3",
   "metadata": {},
   "source": [
    "#### По резульатам анализа наблюдается четкий градиент — с ростом уровня образования (за исключением малых групп) растет и финансовая дисциплина: Начальное < Неоконченное высшее < Среднее < Высшее < Ученая степень. \n",
    "#### Детальная интерпретация по группам:\n",
    "1. Высшее образование (Лидер надежности):\n",
    "    * Процент возврата: 94.68%\n",
    "    * Это наивысший показатель среди всех значимых групп.\n",
    "    * Интерпретация: Данная группа является наиболее финансово дисциплинированной и надежной. Это может быть связано с более стабильным доходом, пониманием долгосрочных последствий просрочек и более ответственным финансовым планированием.\n",
    "\n",
    "2. Ученая степень (Статистическая аномалия):\n",
    "    * Процент возврата: 100%\n",
    "\n",
    "    * **Важно!**: Размер выборки (6 человек) слишком мал для каких-либо выводов. Результат 100% является статистической аномалией. На практике нельзя ожидать, что все обладатели ученых степеней всегда будут возвращать кредиты.\n",
    "\n",
    "3. Среднее образование (Средний показатель)\n",
    "    * Процент возврата: 91.01%\n",
    "    * Это самая многочисленная группа, и ее показатель близок к общему среднему по выборке. Данная группа представляет \"базовый\" уровень надежности.\n",
    "\n",
    "4. Неоконченное высшее (Немного ниже среднего)\n",
    "    * Процент возврата: 90.82%\n",
    "    * Показатель немного хуже, чем у группы со средним образованием. Это может быть связано с нестабильным финансовым положением (студенты, недавние выпускники), которые еще не вышли на стабильный уровень дохода.\n",
    "\n",
    "5. Начальное образование (Наибольший риск)\n",
    "    * Процент возврата: 89.01%\n",
    "    * Это наименьший показатель среди всех значимых групп.\n",
    "    * Интерпретация: Данная группа демонстрирует наибольший кредитный риск. Это может коррелировать с более низким уровнем доходов, нестабильной занятостью или меньшей осведомленностью в вопросах управления финансами.\n",
    "### **Вывод**:  Уровень образования показал себя как статистически значимый показатель, позволяющий дифференцировать заемщиков по уровню кредитного риска. Клиенты с высшим образованием продемонстрировали наивысшую надежность, в то время как клиенты с начальным образованием — наименьшую."
   ]
  },
  {
   "cell_type": "markdown",
   "id": "fc9721c2",
   "metadata": {},
   "source": [
    "### **Вопрос 3** \"Есть ли зависимость между семейным положением и возвратом кредита в срок?\":"
   ]
  },
  {
   "cell_type": "code",
   "execution_count": 194,
   "id": "8aafe891",
   "metadata": {},
   "outputs": [
    {
     "data": {
      "text/html": [
       "<div>\n",
       "<style scoped>\n",
       "    .dataframe tbody tr th:only-of-type {\n",
       "        vertical-align: middle;\n",
       "    }\n",
       "\n",
       "    .dataframe tbody tr th {\n",
       "        vertical-align: top;\n",
       "    }\n",
       "\n",
       "    .dataframe thead th {\n",
       "        text-align: right;\n",
       "    }\n",
       "</style>\n",
       "<table border=\"1\" class=\"dataframe\">\n",
       "  <thead>\n",
       "    <tr style=\"text-align: right;\">\n",
       "      <th></th>\n",
       "      <th>Имеют долг</th>\n",
       "      <th>Всего взяли кредит</th>\n",
       "      <th>Процент не имеющих долга</th>\n",
       "    </tr>\n",
       "    <tr>\n",
       "      <th>family_status</th>\n",
       "      <th></th>\n",
       "      <th></th>\n",
       "      <th></th>\n",
       "    </tr>\n",
       "  </thead>\n",
       "  <tbody>\n",
       "    <tr>\n",
       "      <th>Не женат / не замужем</th>\n",
       "      <td>273</td>\n",
       "      <td>2796</td>\n",
       "      <td>90.236052</td>\n",
       "    </tr>\n",
       "    <tr>\n",
       "      <th>в разводе</th>\n",
       "      <td>84</td>\n",
       "      <td>1189</td>\n",
       "      <td>92.935240</td>\n",
       "    </tr>\n",
       "    <tr>\n",
       "      <th>вдовец / вдова</th>\n",
       "      <td>63</td>\n",
       "      <td>951</td>\n",
       "      <td>93.375394</td>\n",
       "    </tr>\n",
       "    <tr>\n",
       "      <th>гражданский брак</th>\n",
       "      <td>385</td>\n",
       "      <td>4134</td>\n",
       "      <td>90.686986</td>\n",
       "    </tr>\n",
       "    <tr>\n",
       "      <th>женат / замужем</th>\n",
       "      <td>927</td>\n",
       "      <td>12261</td>\n",
       "      <td>92.439442</td>\n",
       "    </tr>\n",
       "  </tbody>\n",
       "</table>\n",
       "</div>"
      ],
      "text/plain": [
       "                       Имеют долг  Всего взяли кредит  \\\n",
       "family_status                                           \n",
       "Не женат / не замужем         273                2796   \n",
       "в разводе                      84                1189   \n",
       "вдовец / вдова                 63                 951   \n",
       "гражданский брак              385                4134   \n",
       "женат / замужем               927               12261   \n",
       "\n",
       "                       Процент не имеющих долга  \n",
       "family_status                                    \n",
       "Не женат / не замужем                 90.236052  \n",
       "в разводе                             92.935240  \n",
       "вдовец / вдова                        93.375394  \n",
       "гражданский брак                      90.686986  \n",
       "женат / замужем                       92.439442  "
      ]
     },
     "metadata": {},
     "output_type": "display_data"
    }
   ],
   "source": [
    "family_status_dict['debt']=(df.loc[df['family_status_id']==family_status_dick['family_status_id'],'debt'])\n",
    "#display(family_status_dick)\n",
    "\n",
    "pivot_table_3=family_status_dict.pivot_table(\n",
    "    values=['family_status_id','debt'],\n",
    "    index='family_status',\n",
    "    aggfunc={\n",
    "        'family_status_id':'count',\n",
    "        'debt':'sum'\n",
    "    }\n",
    ")\n",
    "\n",
    "#display(pivot_table_3['debt'].sum())\n",
    "pivot_table_3['Процент не имеющих долга']=(pivot_table_3['family_status_id']-pivot_table_3['debt'])/pivot_table_3['family_status_id']*100\n",
    "pivot_table_3=pivot_table_3.rename(columns={'debt':'Имеют долг','family_status_id':'Всего взяли кредит'})\n",
    "display(pivot_table_3)\n",
    "\n"
   ]
  },
  {
   "cell_type": "markdown",
   "id": "c2a88350",
   "metadata": {},
   "source": [
    "#### По резульатам анализа наблюдается четкая зависимость между семейным положением и кредитной дисциплиной. Люди, состоящие в официальных отношениях (женаты/замужем, вдовцы, в разводе), демонстрируют более высокую финансовую надежность, чем одинокие и состоящие в гражданском браке.\n",
    "\n",
    "#### Гражданский брак (90.69%) vs Официальный брак (92.44%)\n",
    "- ##### Разница почти в 2 процентных пункта говорит о том, что официально зарегистрированные отношения связаны с большей финансовой ответственностью.\n",
    "### **Вывод:** Семейные люди действительно показывают лучшую кредитную дисциплину"
   ]
  },
  {
   "cell_type": "markdown",
   "id": "4701c7c1",
   "metadata": {},
   "source": [
    "### **Вопрос 4 \"Есть ли зависимость между уровнем дохода и возвратом кредита в срок?\":"
   ]
  },
  {
   "cell_type": "code",
   "execution_count": 195,
   "id": "0e6c8697",
   "metadata": {},
   "outputs": [
    {
     "data": {
      "text/html": [
       "<div>\n",
       "<style scoped>\n",
       "    .dataframe tbody tr th:only-of-type {\n",
       "        vertical-align: middle;\n",
       "    }\n",
       "\n",
       "    .dataframe tbody tr th {\n",
       "        vertical-align: top;\n",
       "    }\n",
       "\n",
       "    .dataframe thead th {\n",
       "        text-align: right;\n",
       "    }\n",
       "</style>\n",
       "<table border=\"1\" class=\"dataframe\">\n",
       "  <thead>\n",
       "    <tr style=\"text-align: right;\">\n",
       "      <th></th>\n",
       "      <th>Имеют долг</th>\n",
       "      <th>Всего взяли кредит</th>\n",
       "      <th>Процент не имеющих долга</th>\n",
       "    </tr>\n",
       "    <tr>\n",
       "      <th>total_income_category</th>\n",
       "      <th></th>\n",
       "      <th></th>\n",
       "      <th></th>\n",
       "    </tr>\n",
       "  </thead>\n",
       "  <tbody>\n",
       "    <tr>\n",
       "      <th>A</th>\n",
       "      <td>2</td>\n",
       "      <td>25</td>\n",
       "      <td>92.00</td>\n",
       "    </tr>\n",
       "    <tr>\n",
       "      <th>B</th>\n",
       "      <td>354</td>\n",
       "      <td>5013</td>\n",
       "      <td>92.94</td>\n",
       "    </tr>\n",
       "    <tr>\n",
       "      <th>C</th>\n",
       "      <td>1353</td>\n",
       "      <td>15922</td>\n",
       "      <td>91.50</td>\n",
       "    </tr>\n",
       "    <tr>\n",
       "      <th>D</th>\n",
       "      <td>21</td>\n",
       "      <td>349</td>\n",
       "      <td>93.98</td>\n",
       "    </tr>\n",
       "    <tr>\n",
       "      <th>E</th>\n",
       "      <td>2</td>\n",
       "      <td>22</td>\n",
       "      <td>90.91</td>\n",
       "    </tr>\n",
       "  </tbody>\n",
       "</table>\n",
       "</div>"
      ],
      "text/plain": [
       "                       Имеют долг  Всего взяли кредит  \\\n",
       "total_income_category                                   \n",
       "A                               2                  25   \n",
       "B                             354                5013   \n",
       "C                            1353               15922   \n",
       "D                              21                 349   \n",
       "E                               2                  22   \n",
       "\n",
       "                       Процент не имеющих долга  \n",
       "total_income_category                            \n",
       "A                                         92.00  \n",
       "B                                         92.94  \n",
       "C                                         91.50  \n",
       "D                                         93.98  \n",
       "E                                         90.91  "
      ]
     },
     "metadata": {},
     "output_type": "display_data"
    }
   ],
   "source": [
    "pivot_table_4=df.pivot_table(\n",
    "    values=['family_status_id','debt'],\n",
    "    index='total_income_category',\n",
    "    aggfunc={\n",
    "        'family_status_id':'count',\n",
    "        'debt':'sum'\n",
    "    }\n",
    ")\n",
    "#display(pivot_table_4)\n",
    "pivot_table_4['Процент не имеющих долга']=np.round((pivot_table_4['family_status_id']-pivot_table_4['debt'])/pivot_table_4['family_status_id']*100,2)\n",
    "pivot_table_4=pivot_table_4.rename(columns={'debt':'Имеют долг','family_status_id':'Всего взяли кредит'})\n",
    "display(pivot_table_4)\n"
   ]
  },
  {
   "cell_type": "markdown",
   "id": "98b76619",
   "metadata": {},
   "source": [
    "#### На основе предоставленных данных не наблюдается статистически значимой зависимости между категорией дохода и вероятностью возврата кредита. Все категории демонстрируют очень стабильный и высокий уровень возврата (в диапазоне 91-94%). Небольшие различия, скорее всего, связаны с погрешностью, особенно в малых группах.\n",
    "#### Анализ по категориям (с учетом размера выборки)\n",
    "- Категория D: Показывает наивысший процент возврата (93.98%), но выборка недостаточно велика (349 заемщиков), чтобы считать это устойчивой закономерностью.\n",
    "\n",
    " - Категория B: Демонстрирует высокий и стабильный результат (92.94%) на солидной выборке (5013 заемщиков). Это надежный показатель.\n",
    "\n",
    "- Категория C: Самая крупная группа (15922 заемщика) показывает результат 91.50%, что очень близко к общему среднему.\n",
    "\n",
    "- Категории A и E: Имеют экстремальные значения (92.00% и 90.91%), но на очень малых выборках (25 и 22 заемщика соответственно). Эти данные статистически незначимы - изменение на 1-2 случая dramatically меняет проценты.\n",
    "\n",
    "#### **Критически** важное замечание о статистической значимости:\n",
    "- Размеры групп A, D и E (25, 349 и 22 человека) слишком малы для надежных выводов:\n",
    "    - В группе E всего 2 дефолта - появление еще одного просрочившего повысит долг дефолта до 13.6%\n",
    "    - В группе A аналогичная ситуация\n",
    "\n",
    "### **Вывод**: Категория общего дохода не является статистически значимым предиктором кредитного дефолта в данном наборе данных."
   ]
  },
  {
   "cell_type": "markdown",
   "id": "e8d5e2c7",
   "metadata": {},
   "source": [
    "### **Вопрос №5** \"Как разные цели кредита влияют на его возврат в срок?\":"
   ]
  },
  {
   "cell_type": "code",
   "execution_count": 196,
   "id": "82847548",
   "metadata": {},
   "outputs": [
    {
     "data": {
      "text/html": [
       "<div>\n",
       "<style scoped>\n",
       "    .dataframe tbody tr th:only-of-type {\n",
       "        vertical-align: middle;\n",
       "    }\n",
       "\n",
       "    .dataframe tbody tr th {\n",
       "        vertical-align: top;\n",
       "    }\n",
       "\n",
       "    .dataframe thead th {\n",
       "        text-align: right;\n",
       "    }\n",
       "</style>\n",
       "<table border=\"1\" class=\"dataframe\">\n",
       "  <thead>\n",
       "    <tr style=\"text-align: right;\">\n",
       "      <th></th>\n",
       "      <th>Имеют долг</th>\n",
       "      <th>Всего взяли кредит</th>\n",
       "      <th>Процент не имеющих долга</th>\n",
       "    </tr>\n",
       "    <tr>\n",
       "      <th>purpose_category</th>\n",
       "      <th></th>\n",
       "      <th></th>\n",
       "      <th></th>\n",
       "    </tr>\n",
       "  </thead>\n",
       "  <tbody>\n",
       "    <tr>\n",
       "      <th>операции с автомобилем</th>\n",
       "      <td>400</td>\n",
       "      <td>4279</td>\n",
       "      <td>90.65</td>\n",
       "    </tr>\n",
       "    <tr>\n",
       "      <th>операции с недвижимостью</th>\n",
       "      <td>780</td>\n",
       "      <td>10751</td>\n",
       "      <td>92.74</td>\n",
       "    </tr>\n",
       "    <tr>\n",
       "      <th>получение образования</th>\n",
       "      <td>369</td>\n",
       "      <td>3988</td>\n",
       "      <td>90.75</td>\n",
       "    </tr>\n",
       "    <tr>\n",
       "      <th>проведение свадьбы</th>\n",
       "      <td>183</td>\n",
       "      <td>2313</td>\n",
       "      <td>92.09</td>\n",
       "    </tr>\n",
       "  </tbody>\n",
       "</table>\n",
       "</div>"
      ],
      "text/plain": [
       "                          Имеют долг  Всего взяли кредит  \\\n",
       "purpose_category                                           \n",
       "операции с автомобилем           400                4279   \n",
       "операции с недвижимостью         780               10751   \n",
       "получение образования            369                3988   \n",
       "проведение свадьбы               183                2313   \n",
       "\n",
       "                          Процент не имеющих долга  \n",
       "purpose_category                                    \n",
       "операции с автомобилем                       90.65  \n",
       "операции с недвижимостью                     92.74  \n",
       "получение образования                        90.75  \n",
       "проведение свадьбы                           92.09  "
      ]
     },
     "metadata": {},
     "output_type": "display_data"
    }
   ],
   "source": [
    "pivot_table_5=df.pivot_table(\n",
    "    values=['family_status_id','debt'],\n",
    "    index='purpose_category',\n",
    "    aggfunc={\n",
    "        'family_status_id':'count',\n",
    "        'debt':'sum'\n",
    "    }\n",
    ")\n",
    "\n",
    "pivot_table_5['Процент не имеющих долга']=np.round((pivot_table_5['family_status_id']-pivot_table_5['debt'])/pivot_table_5['family_status_id']*100,2)\n",
    "pivot_table_5=pivot_table_5.rename(columns={'debt':'Имеют долг','family_status_id':'Всего взяли кредит'})\n",
    "display(pivot_table_5)"
   ]
  },
  {
   "cell_type": "markdown",
   "id": "9072296f",
   "metadata": {},
   "source": [
    "#### По резульатам анализа наблюдается статистически значимая разница в кредитной дисциплине в зависимости от цели кредита. Кредиты на недвижимость и свадьбу показывают наивысшую возвратность, в то время как кредиты на автомобили и образование связаны с несколько более высоким риском.\n",
    "#### Детальная интерпретация по целям кредита\n",
    "1. Наиболее надежные цели (≥92%)\n",
    "    * Операции с недвижимостью: 92.74% - НАИВЫСШАЯ надежность\n",
    "    * Проведение свадьбы: 92.09% - высокая надежность\n",
    "    * Объяснение:\n",
    "        * Недвижимость - долгосрочные инвестиции, серьезное финансовое планирование, залоговая дисциплина\n",
    "        * Свадьба - важное жизненное событие, часто связанное с поддержкой семьи, повышенной ответственностью\n",
    "\n",
    "2. Менее надежные цели (∼90.7%)\n",
    "    * Получение образования: 90.75%\n",
    "    * Операции с автомобилем: 90.65% - НАИМЕНЬШАЯ надежность\n",
    "    * Объяснение:\n",
    "        * Образование - студенты без стабильного дохода, отложенная окупаемость инвестиций\n",
    "        * Автомобиль - быстро обесценивающийся актив, дополнительные расходы на содержание\n",
    "### **Вывод:** Цель кредита является статистически значимым предиктором кредитного поведения. Наивысшую надежность демонстрируют заемщики, берущие кредиты на недвижимость и свадьбу, тогда как кредиты на автомобили и образование связаны с повышенным риском дефолта."
   ]
  },
  {
   "cell_type": "markdown",
   "id": "8f07c736",
   "metadata": {},
   "source": [
    "## Общий вывод:"
   ]
  },
  {
   "cell_type": "markdown",
   "id": "d5630d27",
   "metadata": {},
   "source": [
    "### На основе анализа данных выявлены значимые и незначимые факторы, влияющие на возврат кредита в срок. Вот сводная картина:\n",
    "#### Статистически значимые факторы (оказывают влияние):\n",
    "1. Образование (Вопрос 2)\n",
    "    * Сильная зависимость: клиенты с высшим образованием демонстрируют наивысшую возвратность (94.68%), тогда как с начальным образованием — наименьшую (89.01%).\n",
    "    * Рекомендация: учитывать уровень образования в скоринговых моделях.\n",
    "\n",
    "2. Семейное положение (Вопрос 3)\n",
    "    * Четкая зависимость: вдовцы/вдовы (93.38%), разведенные (92.94%) и официально женатые/замужние (92.44%) показывают лучшие результаты, чем одинокие (90.24%) и состоящие в гражданском браке (90.69%).\n",
    "    * Рекомендация: формальный статус отношений связан с повышенной финансовой ответственностью.\n",
    "\n",
    "3. Цель кредита (Вопрос 5)\n",
    "    * Заметная разница: кредиты на недвижимость (92.74%) и свадьбу (92.09%) возвращаются лучше, чем на автомобили (90.65%) и образование (90.75%).\n",
    "    * Рекомендация: дифференцировать кредитные условия в зависимости от цели займа.\n",
    "\n",
    "#### Статистически незначимые факторы (не оказывают существенного влияния):\n",
    "1. Количество детей (Вопрос 1)\n",
    "    * Стабильность: процент возврата колеблется в узком диапазоне 90.5–92.5% независимо от количества детей.\n",
    "    * Вывод: наличие детей не является определяющим фактором кредитной дисциплины.\n",
    "\n",
    "2. Уровень дохода (Вопрос 4)\n",
    "    * Единообразие: все доходные группы показывают схожие результаты (91–94% возврата).\n",
    "    * Вывод: категория дохода не позволяет эффективно сегментировать заемщиков по риску.\n",
    "\n",
    "### **Итог**: Надежность заемщика определяется скорее его социально-демографическими характеристиками (образование, семейный статус) и целевым назначением кредита, чем материальными факторами (доход, количество иждивенцев) в рамках данного исследования."
   ]
  }
 ],
 "metadata": {
  "kernelspec": {
   "display_name": "Python 3",
   "language": "python",
   "name": "python3"
  },
  "language_info": {
   "codemirror_mode": {
    "name": "ipython",
    "version": 3
   },
   "file_extension": ".py",
   "mimetype": "text/x-python",
   "name": "python",
   "nbconvert_exporter": "python",
   "pygments_lexer": "ipython3",
   "version": "3.9.6"
  },
  "toc": {
   "base_numbering": 1,
   "nav_menu": {},
   "number_sections": true,
   "sideBar": true,
   "skip_h1_title": true,
   "title_cell": "Table of Contents",
   "title_sidebar": "Contents",
   "toc_cell": false,
   "toc_position": {},
   "toc_section_display": true,
   "toc_window_display": false
  }
 },
 "nbformat": 4,
 "nbformat_minor": 5
}
